{
  "nbformat": 4,
  "nbformat_minor": 0,
  "metadata": {
    "colab": {
      "provenance": [],
      "authorship_tag": "ABX9TyOrsDtjku33dZsjVZaAEYXa",
      "include_colab_link": true
    },
    "kernelspec": {
      "name": "python3",
      "display_name": "Python 3"
    },
    "language_info": {
      "name": "python"
    }
  },
  "cells": [
    {
      "cell_type": "markdown",
      "metadata": {
        "id": "view-in-github",
        "colab_type": "text"
      },
      "source": [
        "<a href=\"https://colab.research.google.com/github/nicollysamendonca/AtividadeExtra1/blob/main/Atividade_Extra_1.ipynb\" target=\"_parent\"><img src=\"https://colab.research.google.com/assets/colab-badge.svg\" alt=\"Open In Colab\"/></a>"
      ]
    },
    {
      "cell_type": "markdown",
      "source": [
        "**Atividade Extra 1**"
      ],
      "metadata": {
        "id": "sGaZyK1WN2_y"
      }
    },
    {
      "cell_type": "code",
      "execution_count": 1,
      "metadata": {
        "id": "7QYNc0VpLpUJ"
      },
      "outputs": [],
      "source": [
        "import pandas as pd"
      ]
    },
    {
      "cell_type": "code",
      "source": [
        "data = {\n",
        "    'nome': ['Darwin', 'Díaz', 'Van Dijk', 'Salah', 'Arnold'],\n",
        "    'idade': [30, 25, 35, 40, 28],\n",
        "    'renda': [5000, 4000, 6000, 3500, 4500],\n",
        "    'adimplente': [True, True, False, True, False],\n",
        "    'bairro': ['Centro', 'Zona Norte', 'Centro', 'Zona Norte', 'Zona Sul']\n",
        "}"
      ],
      "metadata": {
        "id": "ZuHmIwJGL1Vv"
      },
      "execution_count": 5,
      "outputs": []
    },
    {
      "cell_type": "code",
      "source": [
        "df = pd.DataFrame(data)"
      ],
      "metadata": {
        "id": "PvDubnMKMac1"
      },
      "execution_count": 6,
      "outputs": []
    },
    {
      "cell_type": "code",
      "source": [
        "print(\"DataFrame:\")\n",
        "print(df)\n",
        "print()"
      ],
      "metadata": {
        "colab": {
          "base_uri": "https://localhost:8080/"
        },
        "id": "y6Zahpl1MuUB",
        "outputId": "bf36e64b-1f7b-4aa6-c0fc-692069f41dd9"
      },
      "execution_count": 7,
      "outputs": [
        {
          "output_type": "stream",
          "name": "stdout",
          "text": [
            "DataFrame:\n",
            "       nome  idade  renda  adimplente      bairro\n",
            "0    Darwin     30   5000        True      Centro\n",
            "1      Díaz     25   4000        True  Zona Norte\n",
            "2  Van Dijk     35   6000       False      Centro\n",
            "3     Salah     40   3500        True  Zona Norte\n",
            "4    Arnold     28   4500       False    Zona Sul\n",
            "\n"
          ]
        }
      ]
    },
    {
      "cell_type": "code",
      "source": [
        "filtro_1 = df[(df['idade'] > 30) & (df['renda'] > 4000)]"
      ],
      "metadata": {
        "id": "DivHioguNFUS"
      },
      "execution_count": 8,
      "outputs": []
    },
    {
      "cell_type": "code",
      "source": [
        "print(\"Filtro 1:\")\n",
        "print(filtro_1)\n",
        "print()"
      ],
      "metadata": {
        "colab": {
          "base_uri": "https://localhost:8080/"
        },
        "id": "thoCJLzgNKC4",
        "outputId": "d52f0c38-759b-4e67-d02f-baa7d9f374ef"
      },
      "execution_count": 9,
      "outputs": [
        {
          "output_type": "stream",
          "name": "stdout",
          "text": [
            "Filtro 1:\n",
            "       nome  idade  renda  adimplente  bairro\n",
            "2  Van Dijk     35   6000       False  Centro\n",
            "\n"
          ]
        }
      ]
    },
    {
      "cell_type": "code",
      "source": [
        "filtro_2 = df[(df['idade'] <= 30) & (df['bairro'] == 'Centro')]"
      ],
      "metadata": {
        "id": "9kruH4DjNLzl"
      },
      "execution_count": 10,
      "outputs": []
    },
    {
      "cell_type": "code",
      "source": [
        "print(\"Filtro 2:\")\n",
        "print(filtro_2)\n",
        "print()"
      ],
      "metadata": {
        "colab": {
          "base_uri": "https://localhost:8080/"
        },
        "id": "fy8wfKWcNQQD",
        "outputId": "f20afd24-4c91-49b1-95c0-fd711935b27e"
      },
      "execution_count": 11,
      "outputs": [
        {
          "output_type": "stream",
          "name": "stdout",
          "text": [
            "Filtro 2:\n",
            "     nome  idade  renda  adimplente  bairro\n",
            "0  Darwin     30   5000        True  Centro\n",
            "\n"
          ]
        }
      ]
    },
    {
      "cell_type": "code",
      "source": [
        "filtro_3 = df[(df['adimplente'] == True) & (df['renda'] >= 5000)]"
      ],
      "metadata": {
        "id": "iJ0uoZsZNVWl"
      },
      "execution_count": 12,
      "outputs": []
    },
    {
      "cell_type": "code",
      "source": [
        "print(\"Filtro 3:\")\n",
        "print(filtro_3)\n",
        "print()"
      ],
      "metadata": {
        "colab": {
          "base_uri": "https://localhost:8080/"
        },
        "id": "RJD3EuFyNgPw",
        "outputId": "cb851b66-0fe1-452e-b4ba-56dc4bb510a5"
      },
      "execution_count": 13,
      "outputs": [
        {
          "output_type": "stream",
          "name": "stdout",
          "text": [
            "Filtro 3:\n",
            "     nome  idade  renda  adimplente  bairro\n",
            "0  Darwin     30   5000        True  Centro\n",
            "\n"
          ]
        }
      ]
    },
    {
      "cell_type": "code",
      "source": [
        "filtro_4 = df[(df['bairro'] == 'Zona Norte') | (df['renda'] < 4000)]"
      ],
      "metadata": {
        "id": "i01A6PXrNlJV"
      },
      "execution_count": 14,
      "outputs": []
    },
    {
      "cell_type": "code",
      "source": [
        "print(\"Filtro 4:\")\n",
        "print(filtro_4)"
      ],
      "metadata": {
        "colab": {
          "base_uri": "https://localhost:8080/"
        },
        "id": "-a06n-ucNt7D",
        "outputId": "a31adc2c-b88c-4e60-c6a6-345390096b37"
      },
      "execution_count": 15,
      "outputs": [
        {
          "output_type": "stream",
          "name": "stdout",
          "text": [
            "Filtro 4:\n",
            "    nome  idade  renda  adimplente      bairro\n",
            "1   Díaz     25   4000        True  Zona Norte\n",
            "3  Salah     40   3500        True  Zona Norte\n"
          ]
        }
      ]
    },
    {
      "cell_type": "markdown",
      "source": [
        "**Fim!**"
      ],
      "metadata": {
        "id": "RIdfnPXeN0Dv"
      }
    }
  ]
}